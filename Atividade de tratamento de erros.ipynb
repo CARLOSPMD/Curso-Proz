{
  "nbformat": 4,
  "nbformat_minor": 0,
  "metadata": {
    "colab": {
      "provenance": [],
      "authorship_tag": "ABX9TyN0fMYcGUmyiplQtIY5rXIx",
      "include_colab_link": true
    },
    "kernelspec": {
      "name": "python3",
      "display_name": "Python 3"
    },
    "language_info": {
      "name": "python"
    }
  },
  "cells": [
    {
      "cell_type": "markdown",
      "metadata": {
        "id": "view-in-github",
        "colab_type": "text"
      },
      "source": [
        "<a href=\"https://colab.research.google.com/github/CARLOSPMD/Curso-Proz/blob/main/Atividade%20de%20tratamento%20de%20erros.ipynb\" target=\"_parent\"><img src=\"https://colab.research.google.com/assets/colab-badge.svg\" alt=\"Open In Colab\"/></a>"
      ]
    },
    {
      "cell_type": "code",
      "execution_count": 1,
      "metadata": {
        "colab": {
          "base_uri": "https://localhost:8080/"
        },
        "id": "5W84rZNPZk5r",
        "outputId": "6cb14b2a-9364-42fe-e543-b9e7aaefff0a"
      },
      "outputs": [
        {
          "output_type": "stream",
          "name": "stdout",
          "text": [
            "Digite seu nome completo: carlos henrique dos  santos\n",
            "Digite seu ano de nascimento (entre 1922 e 2021): 1991\n",
            "\n",
            "carlos henrique dos  santos, você completou ou completará 31 anos em 2022.\n"
          ]
        }
      ],
      "source": [
        "def obter_ano_nascimento():\n",
        "    while True:\n",
        "        ano_nascimento = input(\"Digite seu ano de nascimento (entre 1922 e 2021): \")\n",
        "        try:\n",
        "            ano_nascimento = int(ano_nascimento)\n",
        "            if 1922 <= ano_nascimento <= 2021:\n",
        "                return ano_nascimento\n",
        "            else:\n",
        "                print(\"Ano inválido. O ano deve estar entre 1922 e 2021.\")\n",
        "        except ValueError:\n",
        "            print(\"Entrada inválida. Por favor, digite um número.\")\n",
        "\n",
        "def main():\n",
        "    nome_completo = input(\"Digite seu nome completo: \")\n",
        "    ano_nascimento = obter_ano_nascimento()\n",
        "\n",
        "    ano_atual = 2022\n",
        "    idade = ano_atual - ano_nascimento\n",
        "\n",
        "    print(f\"\\n{nome_completo}, você completou ou completará {idade} anos em {ano_atual}.\")\n",
        "\n",
        "if __name__ == \"__main__\":\n",
        "    main()\n"
      ]
    }
  ]
}
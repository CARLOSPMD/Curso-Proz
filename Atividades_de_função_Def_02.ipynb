{
  "nbformat": 4,
  "nbformat_minor": 0,
  "metadata": {
    "colab": {
      "provenance": [],
      "authorship_tag": "ABX9TyNNDCFfViW6oiwo2fRPAVsh",
      "include_colab_link": true
    },
    "kernelspec": {
      "name": "python3",
      "display_name": "Python 3"
    },
    "language_info": {
      "name": "python"
    }
  },
  "cells": [
    {
      "cell_type": "markdown",
      "metadata": {
        "id": "view-in-github",
        "colab_type": "text"
      },
      "source": [
        "<a href=\"https://colab.research.google.com/github/CARLOSPMD/Curso-Proz/blob/main/Atividades_de_fun%C3%A7%C3%A3o_Def_02.ipynb\" target=\"_parent\"><img src=\"https://colab.research.google.com/assets/colab-badge.svg\" alt=\"Open In Colab\"/></a>"
      ]
    },
    {
      "cell_type": "code",
      "execution_count": 94,
      "metadata": {
        "id": "C0vRpCDl5Pgm",
        "colab": {
          "base_uri": "https://localhost:8080/"
        },
        "outputId": "68f00bff-40d1-4f4e-97c1-0b8c541d2c1e"
      },
      "outputs": [
        {
          "output_type": "stream",
          "name": "stdout",
          "text": [
            "Escolha uma operação:\n",
            "1: Soma\n",
            "2: Subtração\n",
            "3: Multiplicação\n",
            "4: Divisão\n",
            "0: Sair\n",
            "Digite o número para a operação correspondente: 1\n",
            "Digite o primeiro valor: 5\n",
            "Digite o segundo valor: 5\n",
            "Resultado da Soma: 10.0\n",
            "\n",
            "Escolha uma operação:\n",
            "1: Soma\n",
            "2: Subtração\n",
            "3: Multiplicação\n",
            "4: Divisão\n",
            "0: Sair\n",
            "Digite o número para a operação correspondente: 0\n",
            "Saindo da calculadora. Até logo!\n"
          ]
        }
      ],
      "source": [
        "def calculadora():\n",
        "    while True:\n",
        "        # Mostra o menu de operações\n",
        "        print(\"Escolha uma operação:\")\n",
        "        print(\"1: Soma\")\n",
        "        print(\"2: Subtração\")\n",
        "        print(\"3: Multiplicação\")\n",
        "        print(\"4: Divisão\")\n",
        "        print(\"0: Sair\")\n",
        "\n",
        "        opcao = input(\"Digite o número para a operação correspondente: \")\n",
        "\n",
        "        if opcao == '0':\n",
        "            print(\"Saindo da calculadora. Até logo!\")\n",
        "            break\n",
        "\n",
        "        if opcao not in ['1', '2', '3', '4']:\n",
        "            print(\"Essa opção não existe.\")\n",
        "            continue\n",
        "\n",
        "        # Pede os números ao usuário\n",
        "        try:\n",
        "            primeiro_valor = float(input(\"Digite o primeiro valor: \"))\n",
        "            segundo_valor = float(input(\"Digite o segundo valor: \"))\n",
        "        except ValueError:\n",
        "            print(\"Por favor, insira números válidos.\")\n",
        "            continue\n",
        "\n",
        "        # Executa a operação correspondente\n",
        "        if opcao == '1':\n",
        "            resultado = primeiro_valor + segundo_valor\n",
        "            operacao = \"Soma\"\n",
        "        elif opcao == '2':\n",
        "            resultado = primeiro_valor - segundo_valor\n",
        "            operacao = \"Subtração\"\n",
        "        elif opcao == '3':\n",
        "            resultado = primeiro_valor * segundo_valor\n",
        "            operacao = \"Multiplicação\"\n",
        "        elif opcao == '4':\n",
        "            if segundo_valor == 0:\n",
        "                print(\"Erro: Divisão por zero não é permitida.\")\n",
        "                continue\n",
        "            resultado = primeiro_valor / segundo_valor\n",
        "            operacao = \"Divisão\"\n",
        "\n",
        "        # Mostra o resultado\n",
        "        print(f\"Resultado da {operacao}: {resultado}\\n\")\n",
        "\n",
        "# Chama a função para iniciar a calculadora\n",
        "calculadora()\n"
      ]
    }
  ]
}
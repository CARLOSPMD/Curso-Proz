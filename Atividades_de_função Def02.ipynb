{
  "nbformat": 4,
  "nbformat_minor": 0,
  "metadata": {
    "colab": {
      "provenance": [],
      "authorship_tag": "ABX9TyM4KKXZpQUKvXtG/AoU+IP8",
      "include_colab_link": true
    },
    "kernelspec": {
      "name": "python3",
      "display_name": "Python 3"
    },
    "language_info": {
      "name": "python"
    }
  },
  "cells": [
    {
      "cell_type": "markdown",
      "metadata": {
        "id": "view-in-github",
        "colab_type": "text"
      },
      "source": [
        "<a href=\"https://colab.research.google.com/github/CARLOSPMD/Curso-Proz/blob/main/Atividades_de_fun%C3%A7%C3%A3o%20Def02.ipynb\" target=\"_parent\"><img src=\"https://colab.research.google.com/assets/colab-badge.svg\" alt=\"Open In Colab\"/></a>"
      ]
    },
    {
      "cell_type": "code",
      "execution_count": 43,
      "metadata": {
        "id": "C0vRpCDl5Pgm",
        "colab": {
          "base_uri": "https://localhost:8080/"
        },
        "outputId": "107c2dc0-6dad-4b81-9dfc-ed830060d3ff"
      },
      "outputs": [
        {
          "name": "stdout",
          "output_type": "stream",
          "text": [
            " Escolha um operador para fazer o calculo \n",
            " \n",
            " Escolha 1 para - Somar \n",
            " Escolha 2 para - Subtrair \n",
            " Escolha 3 para - Multiplicar \n",
            " Escolha 4 para - Dividir \n",
            " Escolha 5 para - Sair\n",
            "\n",
            "\n",
            "Digite sua Opção: 4\n",
            "Digite um numero: 2\n",
            "Digite outro numero: 2\n",
            "1.0\n",
            "Digite sua Opção: 3\n",
            "Digite um numero: 3\n",
            "Digite outro numero: 3\n",
            "9\n",
            "Digite sua Opção: 2\n",
            "Digite um numero: 2\n",
            "Digite outro numero: 2\n",
            "0\n",
            "Digite sua Opção: 1\n",
            "Digite um numero: 2\n",
            "Digite outro numero: 2\n",
            "4\n",
            "Digite sua Opção: 5\n"
          ]
        }
      ],
      "source": [
        "def calcular_numeros(op,num1,num2):\n",
        "\n",
        "\n",
        "\n",
        "  if(op == \"1\"):\n",
        "    return num1 + num2\n",
        "  elif(op == \"2\"):\n",
        "      return num1 - num2\n",
        "  elif(op == \"3\"):\n",
        "      return num1 * num2\n",
        "  elif(op == \"4\"):\n",
        "      return num1 / num2\n",
        "  elif( op == \"5\"):\n",
        "         return None\n",
        "\n",
        "print(\" Escolha um operador para fazer o calculo\", \"\\n\",\"\\n\", \"Escolha 1 para - Somar\", \"\\n\",\"Escolha 2 para - Subtrair\",\"\\n\",\"Escolha 3 para - Multiplicar\",\"\\n\",\"Escolha 4 para - Dividir\",\"\\n\", \"Escolha 5 para - Sair\")\n",
        "print(\"\\n\")\n",
        "op = input(\"Digite sua Opção: \")\n",
        "\n",
        "while(op != \"5\"):\n",
        "\n",
        " num1 = int(input(\"Digite um numero: \"))\n",
        " num2 = int(input(\"Digite outro numero: \"))\n",
        "\n",
        " calculadora = calcular_numeros(op,num1,num2)\n",
        " print(calculadora)\n",
        " op = input(\"Digite sua Opção: \")"
      ]
    }
  ]
}